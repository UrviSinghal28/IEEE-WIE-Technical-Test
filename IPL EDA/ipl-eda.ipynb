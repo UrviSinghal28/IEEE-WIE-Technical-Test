{
 "cells": [
  {
   "cell_type": "markdown",
   "id": "848f51a7",
   "metadata": {
    "papermill": {
     "duration": 0.029989,
     "end_time": "2022-02-06T07:40:19.514191",
     "exception": false,
     "start_time": "2022-02-06T07:40:19.484202",
     "status": "completed"
    },
    "tags": []
   },
   "source": [
    "# **Analysing IPL Data**"
   ]
  },
  {
   "cell_type": "markdown",
   "id": "66e4041a",
   "metadata": {
    "papermill": {
     "duration": 0.028707,
     "end_time": "2022-02-06T07:40:19.573805",
     "exception": false,
     "start_time": "2022-02-06T07:40:19.545098",
     "status": "completed"
    },
    "tags": []
   },
   "source": [
    "# Importing Libraries"
   ]
  },
  {
   "cell_type": "code",
   "execution_count": 1,
   "id": "1d966d48",
   "metadata": {
    "execution": {
     "iopub.execute_input": "2022-02-06T07:40:19.640283Z",
     "iopub.status.busy": "2022-02-06T07:40:19.639600Z",
     "iopub.status.idle": "2022-02-06T07:40:20.703301Z",
     "shell.execute_reply": "2022-02-06T07:40:20.703889Z",
     "shell.execute_reply.started": "2022-02-06T06:12:33.224981Z"
    },
    "papermill": {
     "duration": 1.101387,
     "end_time": "2022-02-06T07:40:20.704228",
     "exception": false,
     "start_time": "2022-02-06T07:40:19.602841",
     "status": "completed"
    },
    "tags": []
   },
   "outputs": [],
   "source": [
    "import pandas as pd\n",
    "import numpy as np\n",
    "import matplotlib.pyplot as plt\n",
    "import seaborn as sns\n",
    "\n",
    "import random\n",
    "plt.style.use(\"fivethirtyeight\")\n",
    "\n",
    "import warnings\n",
    "warnings.filterwarnings('ignore')"
   ]
  },
  {
   "cell_type": "markdown",
   "id": "e9548be1",
   "metadata": {
    "papermill": {
     "duration": 0.029285,
     "end_time": "2022-02-06T07:40:20.764177",
     "exception": false,
     "start_time": "2022-02-06T07:40:20.734892",
     "status": "completed"
    },
    "tags": []
   },
   "source": [
    "# Loading Dataset"
   ]
  },
  {
   "cell_type": "code",
   "execution_count": 2,
   "id": "ec074aed",
   "metadata": {
    "execution": {
     "iopub.execute_input": "2022-02-06T07:40:20.829617Z",
     "iopub.status.busy": "2022-02-06T07:40:20.828154Z",
     "iopub.status.idle": "2022-02-06T07:40:21.563198Z",
     "shell.execute_reply": "2022-02-06T07:40:21.563742Z",
     "shell.execute_reply.started": "2022-02-06T06:12:34.258726Z"
    },
    "papermill": {
     "duration": 0.769807,
     "end_time": "2022-02-06T07:40:21.563945",
     "exception": false,
     "start_time": "2022-02-06T07:40:20.794138",
     "status": "completed"
    },
    "tags": []
   },
   "outputs": [],
   "source": [
    "ball = pd.read_csv('../input/ipl-complete-dataset-20082020/IPL Ball-by-Ball 2008-2020.csv')\n",
    "matches = pd.read_csv('../input/ipl-complete-dataset-20082020/IPL Matches 2008-2020.csv')"
   ]
  },
  {
   "cell_type": "code",
   "execution_count": 3,
   "id": "26f5651e",
   "metadata": {
    "execution": {
     "iopub.execute_input": "2022-02-06T07:40:21.628008Z",
     "iopub.status.busy": "2022-02-06T07:40:21.627028Z",
     "iopub.status.idle": "2022-02-06T07:40:21.651773Z",
     "shell.execute_reply": "2022-02-06T07:40:21.652270Z",
     "shell.execute_reply.started": "2022-02-06T06:12:34.822895Z"
    },
    "papermill": {
     "duration": 0.057053,
     "end_time": "2022-02-06T07:40:21.652454",
     "exception": false,
     "start_time": "2022-02-06T07:40:21.595401",
     "status": "completed"
    },
    "tags": []
   },
   "outputs": [
    {
     "data": {
      "text/html": [
       "<div>\n",
       "<style scoped>\n",
       "    .dataframe tbody tr th:only-of-type {\n",
       "        vertical-align: middle;\n",
       "    }\n",
       "\n",
       "    .dataframe tbody tr th {\n",
       "        vertical-align: top;\n",
       "    }\n",
       "\n",
       "    .dataframe thead th {\n",
       "        text-align: right;\n",
       "    }\n",
       "</style>\n",
       "<table border=\"1\" class=\"dataframe\">\n",
       "  <thead>\n",
       "    <tr style=\"text-align: right;\">\n",
       "      <th></th>\n",
       "      <th>id</th>\n",
       "      <th>inning</th>\n",
       "      <th>over</th>\n",
       "      <th>ball</th>\n",
       "      <th>batsman</th>\n",
       "      <th>non_striker</th>\n",
       "      <th>bowler</th>\n",
       "      <th>batsman_runs</th>\n",
       "      <th>extra_runs</th>\n",
       "      <th>total_runs</th>\n",
       "      <th>non_boundary</th>\n",
       "      <th>is_wicket</th>\n",
       "      <th>dismissal_kind</th>\n",
       "      <th>player_dismissed</th>\n",
       "      <th>fielder</th>\n",
       "      <th>extras_type</th>\n",
       "      <th>batting_team</th>\n",
       "      <th>bowling_team</th>\n",
       "    </tr>\n",
       "  </thead>\n",
       "  <tbody>\n",
       "    <tr>\n",
       "      <th>0</th>\n",
       "      <td>335982</td>\n",
       "      <td>1</td>\n",
       "      <td>6</td>\n",
       "      <td>5</td>\n",
       "      <td>RT Ponting</td>\n",
       "      <td>BB McCullum</td>\n",
       "      <td>AA Noffke</td>\n",
       "      <td>1</td>\n",
       "      <td>0</td>\n",
       "      <td>1</td>\n",
       "      <td>0</td>\n",
       "      <td>0</td>\n",
       "      <td>NaN</td>\n",
       "      <td>NaN</td>\n",
       "      <td>NaN</td>\n",
       "      <td>NaN</td>\n",
       "      <td>Kolkata Knight Riders</td>\n",
       "      <td>Royal Challengers Bangalore</td>\n",
       "    </tr>\n",
       "    <tr>\n",
       "      <th>1</th>\n",
       "      <td>335982</td>\n",
       "      <td>1</td>\n",
       "      <td>6</td>\n",
       "      <td>6</td>\n",
       "      <td>BB McCullum</td>\n",
       "      <td>RT Ponting</td>\n",
       "      <td>AA Noffke</td>\n",
       "      <td>1</td>\n",
       "      <td>0</td>\n",
       "      <td>1</td>\n",
       "      <td>0</td>\n",
       "      <td>0</td>\n",
       "      <td>NaN</td>\n",
       "      <td>NaN</td>\n",
       "      <td>NaN</td>\n",
       "      <td>NaN</td>\n",
       "      <td>Kolkata Knight Riders</td>\n",
       "      <td>Royal Challengers Bangalore</td>\n",
       "    </tr>\n",
       "    <tr>\n",
       "      <th>2</th>\n",
       "      <td>335982</td>\n",
       "      <td>1</td>\n",
       "      <td>7</td>\n",
       "      <td>1</td>\n",
       "      <td>BB McCullum</td>\n",
       "      <td>RT Ponting</td>\n",
       "      <td>Z Khan</td>\n",
       "      <td>0</td>\n",
       "      <td>0</td>\n",
       "      <td>0</td>\n",
       "      <td>0</td>\n",
       "      <td>0</td>\n",
       "      <td>NaN</td>\n",
       "      <td>NaN</td>\n",
       "      <td>NaN</td>\n",
       "      <td>NaN</td>\n",
       "      <td>Kolkata Knight Riders</td>\n",
       "      <td>Royal Challengers Bangalore</td>\n",
       "    </tr>\n",
       "    <tr>\n",
       "      <th>3</th>\n",
       "      <td>335982</td>\n",
       "      <td>1</td>\n",
       "      <td>7</td>\n",
       "      <td>2</td>\n",
       "      <td>BB McCullum</td>\n",
       "      <td>RT Ponting</td>\n",
       "      <td>Z Khan</td>\n",
       "      <td>1</td>\n",
       "      <td>0</td>\n",
       "      <td>1</td>\n",
       "      <td>0</td>\n",
       "      <td>0</td>\n",
       "      <td>NaN</td>\n",
       "      <td>NaN</td>\n",
       "      <td>NaN</td>\n",
       "      <td>NaN</td>\n",
       "      <td>Kolkata Knight Riders</td>\n",
       "      <td>Royal Challengers Bangalore</td>\n",
       "    </tr>\n",
       "    <tr>\n",
       "      <th>4</th>\n",
       "      <td>335982</td>\n",
       "      <td>1</td>\n",
       "      <td>7</td>\n",
       "      <td>3</td>\n",
       "      <td>RT Ponting</td>\n",
       "      <td>BB McCullum</td>\n",
       "      <td>Z Khan</td>\n",
       "      <td>1</td>\n",
       "      <td>0</td>\n",
       "      <td>1</td>\n",
       "      <td>0</td>\n",
       "      <td>0</td>\n",
       "      <td>NaN</td>\n",
       "      <td>NaN</td>\n",
       "      <td>NaN</td>\n",
       "      <td>NaN</td>\n",
       "      <td>Kolkata Knight Riders</td>\n",
       "      <td>Royal Challengers Bangalore</td>\n",
       "    </tr>\n",
       "  </tbody>\n",
       "</table>\n",
       "</div>"
      ],
      "text/plain": [
       "       id  inning  over  ball      batsman  non_striker     bowler  \\\n",
       "0  335982       1     6     5   RT Ponting  BB McCullum  AA Noffke   \n",
       "1  335982       1     6     6  BB McCullum   RT Ponting  AA Noffke   \n",
       "2  335982       1     7     1  BB McCullum   RT Ponting     Z Khan   \n",
       "3  335982       1     7     2  BB McCullum   RT Ponting     Z Khan   \n",
       "4  335982       1     7     3   RT Ponting  BB McCullum     Z Khan   \n",
       "\n",
       "   batsman_runs  extra_runs  total_runs  non_boundary  is_wicket  \\\n",
       "0             1           0           1             0          0   \n",
       "1             1           0           1             0          0   \n",
       "2             0           0           0             0          0   \n",
       "3             1           0           1             0          0   \n",
       "4             1           0           1             0          0   \n",
       "\n",
       "  dismissal_kind player_dismissed fielder extras_type           batting_team  \\\n",
       "0            NaN              NaN     NaN         NaN  Kolkata Knight Riders   \n",
       "1            NaN              NaN     NaN         NaN  Kolkata Knight Riders   \n",
       "2            NaN              NaN     NaN         NaN  Kolkata Knight Riders   \n",
       "3            NaN              NaN     NaN         NaN  Kolkata Knight Riders   \n",
       "4            NaN              NaN     NaN         NaN  Kolkata Knight Riders   \n",
       "\n",
       "                  bowling_team  \n",
       "0  Royal Challengers Bangalore  \n",
       "1  Royal Challengers Bangalore  \n",
       "2  Royal Challengers Bangalore  \n",
       "3  Royal Challengers Bangalore  \n",
       "4  Royal Challengers Bangalore  "
      ]
     },
     "execution_count": 3,
     "metadata": {},
     "output_type": "execute_result"
    }
   ],
   "source": [
    "ball.head()"
   ]
  },
  {
   "cell_type": "code",
   "execution_count": 4,
   "id": "ca0d5a26",
   "metadata": {
    "execution": {
     "iopub.execute_input": "2022-02-06T07:40:21.732275Z",
     "iopub.status.busy": "2022-02-06T07:40:21.714774Z",
     "iopub.status.idle": "2022-02-06T07:40:21.739030Z",
     "shell.execute_reply": "2022-02-06T07:40:21.738334Z",
     "shell.execute_reply.started": "2022-02-06T06:12:34.850835Z"
    },
    "papermill": {
     "duration": 0.056686,
     "end_time": "2022-02-06T07:40:21.739175",
     "exception": false,
     "start_time": "2022-02-06T07:40:21.682489",
     "status": "completed"
    },
    "tags": []
   },
   "outputs": [
    {
     "data": {
      "text/html": [
       "<div>\n",
       "<style scoped>\n",
       "    .dataframe tbody tr th:only-of-type {\n",
       "        vertical-align: middle;\n",
       "    }\n",
       "\n",
       "    .dataframe tbody tr th {\n",
       "        vertical-align: top;\n",
       "    }\n",
       "\n",
       "    .dataframe thead th {\n",
       "        text-align: right;\n",
       "    }\n",
       "</style>\n",
       "<table border=\"1\" class=\"dataframe\">\n",
       "  <thead>\n",
       "    <tr style=\"text-align: right;\">\n",
       "      <th></th>\n",
       "      <th>id</th>\n",
       "      <th>city</th>\n",
       "      <th>date</th>\n",
       "      <th>player_of_match</th>\n",
       "      <th>venue</th>\n",
       "      <th>neutral_venue</th>\n",
       "      <th>team1</th>\n",
       "      <th>team2</th>\n",
       "      <th>toss_winner</th>\n",
       "      <th>toss_decision</th>\n",
       "      <th>winner</th>\n",
       "      <th>result</th>\n",
       "      <th>result_margin</th>\n",
       "      <th>eliminator</th>\n",
       "      <th>method</th>\n",
       "      <th>umpire1</th>\n",
       "      <th>umpire2</th>\n",
       "    </tr>\n",
       "  </thead>\n",
       "  <tbody>\n",
       "    <tr>\n",
       "      <th>0</th>\n",
       "      <td>335982</td>\n",
       "      <td>Bangalore</td>\n",
       "      <td>2008-04-18</td>\n",
       "      <td>BB McCullum</td>\n",
       "      <td>M Chinnaswamy Stadium</td>\n",
       "      <td>0</td>\n",
       "      <td>Royal Challengers Bangalore</td>\n",
       "      <td>Kolkata Knight Riders</td>\n",
       "      <td>Royal Challengers Bangalore</td>\n",
       "      <td>field</td>\n",
       "      <td>Kolkata Knight Riders</td>\n",
       "      <td>runs</td>\n",
       "      <td>140.0</td>\n",
       "      <td>N</td>\n",
       "      <td>NaN</td>\n",
       "      <td>Asad Rauf</td>\n",
       "      <td>RE Koertzen</td>\n",
       "    </tr>\n",
       "    <tr>\n",
       "      <th>1</th>\n",
       "      <td>335983</td>\n",
       "      <td>Chandigarh</td>\n",
       "      <td>2008-04-19</td>\n",
       "      <td>MEK Hussey</td>\n",
       "      <td>Punjab Cricket Association Stadium, Mohali</td>\n",
       "      <td>0</td>\n",
       "      <td>Kings XI Punjab</td>\n",
       "      <td>Chennai Super Kings</td>\n",
       "      <td>Chennai Super Kings</td>\n",
       "      <td>bat</td>\n",
       "      <td>Chennai Super Kings</td>\n",
       "      <td>runs</td>\n",
       "      <td>33.0</td>\n",
       "      <td>N</td>\n",
       "      <td>NaN</td>\n",
       "      <td>MR Benson</td>\n",
       "      <td>SL Shastri</td>\n",
       "    </tr>\n",
       "    <tr>\n",
       "      <th>2</th>\n",
       "      <td>335984</td>\n",
       "      <td>Delhi</td>\n",
       "      <td>2008-04-19</td>\n",
       "      <td>MF Maharoof</td>\n",
       "      <td>Feroz Shah Kotla</td>\n",
       "      <td>0</td>\n",
       "      <td>Delhi Daredevils</td>\n",
       "      <td>Rajasthan Royals</td>\n",
       "      <td>Rajasthan Royals</td>\n",
       "      <td>bat</td>\n",
       "      <td>Delhi Daredevils</td>\n",
       "      <td>wickets</td>\n",
       "      <td>9.0</td>\n",
       "      <td>N</td>\n",
       "      <td>NaN</td>\n",
       "      <td>Aleem Dar</td>\n",
       "      <td>GA Pratapkumar</td>\n",
       "    </tr>\n",
       "    <tr>\n",
       "      <th>3</th>\n",
       "      <td>335985</td>\n",
       "      <td>Mumbai</td>\n",
       "      <td>2008-04-20</td>\n",
       "      <td>MV Boucher</td>\n",
       "      <td>Wankhede Stadium</td>\n",
       "      <td>0</td>\n",
       "      <td>Mumbai Indians</td>\n",
       "      <td>Royal Challengers Bangalore</td>\n",
       "      <td>Mumbai Indians</td>\n",
       "      <td>bat</td>\n",
       "      <td>Royal Challengers Bangalore</td>\n",
       "      <td>wickets</td>\n",
       "      <td>5.0</td>\n",
       "      <td>N</td>\n",
       "      <td>NaN</td>\n",
       "      <td>SJ Davis</td>\n",
       "      <td>DJ Harper</td>\n",
       "    </tr>\n",
       "    <tr>\n",
       "      <th>4</th>\n",
       "      <td>335986</td>\n",
       "      <td>Kolkata</td>\n",
       "      <td>2008-04-20</td>\n",
       "      <td>DJ Hussey</td>\n",
       "      <td>Eden Gardens</td>\n",
       "      <td>0</td>\n",
       "      <td>Kolkata Knight Riders</td>\n",
       "      <td>Deccan Chargers</td>\n",
       "      <td>Deccan Chargers</td>\n",
       "      <td>bat</td>\n",
       "      <td>Kolkata Knight Riders</td>\n",
       "      <td>wickets</td>\n",
       "      <td>5.0</td>\n",
       "      <td>N</td>\n",
       "      <td>NaN</td>\n",
       "      <td>BF Bowden</td>\n",
       "      <td>K Hariharan</td>\n",
       "    </tr>\n",
       "  </tbody>\n",
       "</table>\n",
       "</div>"
      ],
      "text/plain": [
       "       id        city        date player_of_match  \\\n",
       "0  335982   Bangalore  2008-04-18     BB McCullum   \n",
       "1  335983  Chandigarh  2008-04-19      MEK Hussey   \n",
       "2  335984       Delhi  2008-04-19     MF Maharoof   \n",
       "3  335985      Mumbai  2008-04-20      MV Boucher   \n",
       "4  335986     Kolkata  2008-04-20       DJ Hussey   \n",
       "\n",
       "                                        venue  neutral_venue  \\\n",
       "0                       M Chinnaswamy Stadium              0   \n",
       "1  Punjab Cricket Association Stadium, Mohali              0   \n",
       "2                            Feroz Shah Kotla              0   \n",
       "3                            Wankhede Stadium              0   \n",
       "4                                Eden Gardens              0   \n",
       "\n",
       "                         team1                        team2  \\\n",
       "0  Royal Challengers Bangalore        Kolkata Knight Riders   \n",
       "1              Kings XI Punjab          Chennai Super Kings   \n",
       "2             Delhi Daredevils             Rajasthan Royals   \n",
       "3               Mumbai Indians  Royal Challengers Bangalore   \n",
       "4        Kolkata Knight Riders              Deccan Chargers   \n",
       "\n",
       "                   toss_winner toss_decision                       winner  \\\n",
       "0  Royal Challengers Bangalore         field        Kolkata Knight Riders   \n",
       "1          Chennai Super Kings           bat          Chennai Super Kings   \n",
       "2             Rajasthan Royals           bat             Delhi Daredevils   \n",
       "3               Mumbai Indians           bat  Royal Challengers Bangalore   \n",
       "4              Deccan Chargers           bat        Kolkata Knight Riders   \n",
       "\n",
       "    result  result_margin eliminator method    umpire1         umpire2  \n",
       "0     runs          140.0          N    NaN  Asad Rauf     RE Koertzen  \n",
       "1     runs           33.0          N    NaN  MR Benson      SL Shastri  \n",
       "2  wickets            9.0          N    NaN  Aleem Dar  GA Pratapkumar  \n",
       "3  wickets            5.0          N    NaN   SJ Davis       DJ Harper  \n",
       "4  wickets            5.0          N    NaN  BF Bowden     K Hariharan  "
      ]
     },
     "execution_count": 4,
     "metadata": {},
     "output_type": "execute_result"
    }
   ],
   "source": [
    "matches.head()"
   ]
  },
  {
   "cell_type": "code",
   "execution_count": 5,
   "id": "0353434a",
   "metadata": {
    "execution": {
     "iopub.execute_input": "2022-02-06T07:40:21.804258Z",
     "iopub.status.busy": "2022-02-06T07:40:21.803560Z",
     "iopub.status.idle": "2022-02-06T07:40:21.815032Z",
     "shell.execute_reply": "2022-02-06T07:40:21.814370Z",
     "shell.execute_reply.started": "2022-02-06T06:13:03.813108Z"
    },
    "papermill": {
     "duration": 0.045277,
     "end_time": "2022-02-06T07:40:21.815187",
     "exception": false,
     "start_time": "2022-02-06T07:40:21.769910",
     "status": "completed"
    },
    "tags": []
   },
   "outputs": [],
   "source": [
    "matches[\"season\"]=pd.DatetimeIndex(matches[\"date\"]).year"
   ]
  },
  {
   "cell_type": "code",
   "execution_count": 6,
   "id": "fdd5cdbb",
   "metadata": {
    "execution": {
     "iopub.execute_input": "2022-02-06T07:40:21.900847Z",
     "iopub.status.busy": "2022-02-06T07:40:21.899966Z",
     "iopub.status.idle": "2022-02-06T07:40:21.903515Z",
     "shell.execute_reply": "2022-02-06T07:40:21.904034Z",
     "shell.execute_reply.started": "2022-02-06T06:14:18.689297Z"
    },
    "papermill": {
     "duration": 0.056521,
     "end_time": "2022-02-06T07:40:21.904213",
     "exception": false,
     "start_time": "2022-02-06T07:40:21.847692",
     "status": "completed"
    },
    "tags": []
   },
   "outputs": [
    {
     "data": {
      "text/html": [
       "<div>\n",
       "<style scoped>\n",
       "    .dataframe tbody tr th:only-of-type {\n",
       "        vertical-align: middle;\n",
       "    }\n",
       "\n",
       "    .dataframe tbody tr th {\n",
       "        vertical-align: top;\n",
       "    }\n",
       "\n",
       "    .dataframe thead th {\n",
       "        text-align: right;\n",
       "    }\n",
       "</style>\n",
       "<table border=\"1\" class=\"dataframe\">\n",
       "  <thead>\n",
       "    <tr style=\"text-align: right;\">\n",
       "      <th></th>\n",
       "      <th>id</th>\n",
       "      <th>city</th>\n",
       "      <th>date</th>\n",
       "      <th>player_of_match</th>\n",
       "      <th>venue</th>\n",
       "      <th>neutral_venue</th>\n",
       "      <th>team1</th>\n",
       "      <th>team2</th>\n",
       "      <th>toss_winner</th>\n",
       "      <th>toss_decision</th>\n",
       "      <th>winner</th>\n",
       "      <th>result</th>\n",
       "      <th>result_margin</th>\n",
       "      <th>eliminator</th>\n",
       "      <th>method</th>\n",
       "      <th>umpire1</th>\n",
       "      <th>umpire2</th>\n",
       "      <th>season</th>\n",
       "    </tr>\n",
       "  </thead>\n",
       "  <tbody>\n",
       "    <tr>\n",
       "      <th>0</th>\n",
       "      <td>335982</td>\n",
       "      <td>Bangalore</td>\n",
       "      <td>2008-04-18</td>\n",
       "      <td>BB McCullum</td>\n",
       "      <td>M Chinnaswamy Stadium</td>\n",
       "      <td>0</td>\n",
       "      <td>Royal Challengers Bangalore</td>\n",
       "      <td>Kolkata Knight Riders</td>\n",
       "      <td>Royal Challengers Bangalore</td>\n",
       "      <td>field</td>\n",
       "      <td>Kolkata Knight Riders</td>\n",
       "      <td>runs</td>\n",
       "      <td>140.0</td>\n",
       "      <td>N</td>\n",
       "      <td>NaN</td>\n",
       "      <td>Asad Rauf</td>\n",
       "      <td>RE Koertzen</td>\n",
       "      <td>2008</td>\n",
       "    </tr>\n",
       "    <tr>\n",
       "      <th>1</th>\n",
       "      <td>335983</td>\n",
       "      <td>Chandigarh</td>\n",
       "      <td>2008-04-19</td>\n",
       "      <td>MEK Hussey</td>\n",
       "      <td>Punjab Cricket Association Stadium, Mohali</td>\n",
       "      <td>0</td>\n",
       "      <td>Kings XI Punjab</td>\n",
       "      <td>Chennai Super Kings</td>\n",
       "      <td>Chennai Super Kings</td>\n",
       "      <td>bat</td>\n",
       "      <td>Chennai Super Kings</td>\n",
       "      <td>runs</td>\n",
       "      <td>33.0</td>\n",
       "      <td>N</td>\n",
       "      <td>NaN</td>\n",
       "      <td>MR Benson</td>\n",
       "      <td>SL Shastri</td>\n",
       "      <td>2008</td>\n",
       "    </tr>\n",
       "    <tr>\n",
       "      <th>2</th>\n",
       "      <td>335984</td>\n",
       "      <td>Delhi</td>\n",
       "      <td>2008-04-19</td>\n",
       "      <td>MF Maharoof</td>\n",
       "      <td>Feroz Shah Kotla</td>\n",
       "      <td>0</td>\n",
       "      <td>Delhi Daredevils</td>\n",
       "      <td>Rajasthan Royals</td>\n",
       "      <td>Rajasthan Royals</td>\n",
       "      <td>bat</td>\n",
       "      <td>Delhi Daredevils</td>\n",
       "      <td>wickets</td>\n",
       "      <td>9.0</td>\n",
       "      <td>N</td>\n",
       "      <td>NaN</td>\n",
       "      <td>Aleem Dar</td>\n",
       "      <td>GA Pratapkumar</td>\n",
       "      <td>2008</td>\n",
       "    </tr>\n",
       "    <tr>\n",
       "      <th>3</th>\n",
       "      <td>335985</td>\n",
       "      <td>Mumbai</td>\n",
       "      <td>2008-04-20</td>\n",
       "      <td>MV Boucher</td>\n",
       "      <td>Wankhede Stadium</td>\n",
       "      <td>0</td>\n",
       "      <td>Mumbai Indians</td>\n",
       "      <td>Royal Challengers Bangalore</td>\n",
       "      <td>Mumbai Indians</td>\n",
       "      <td>bat</td>\n",
       "      <td>Royal Challengers Bangalore</td>\n",
       "      <td>wickets</td>\n",
       "      <td>5.0</td>\n",
       "      <td>N</td>\n",
       "      <td>NaN</td>\n",
       "      <td>SJ Davis</td>\n",
       "      <td>DJ Harper</td>\n",
       "      <td>2008</td>\n",
       "    </tr>\n",
       "    <tr>\n",
       "      <th>4</th>\n",
       "      <td>335986</td>\n",
       "      <td>Kolkata</td>\n",
       "      <td>2008-04-20</td>\n",
       "      <td>DJ Hussey</td>\n",
       "      <td>Eden Gardens</td>\n",
       "      <td>0</td>\n",
       "      <td>Kolkata Knight Riders</td>\n",
       "      <td>Deccan Chargers</td>\n",
       "      <td>Deccan Chargers</td>\n",
       "      <td>bat</td>\n",
       "      <td>Kolkata Knight Riders</td>\n",
       "      <td>wickets</td>\n",
       "      <td>5.0</td>\n",
       "      <td>N</td>\n",
       "      <td>NaN</td>\n",
       "      <td>BF Bowden</td>\n",
       "      <td>K Hariharan</td>\n",
       "      <td>2008</td>\n",
       "    </tr>\n",
       "  </tbody>\n",
       "</table>\n",
       "</div>"
      ],
      "text/plain": [
       "       id        city        date player_of_match  \\\n",
       "0  335982   Bangalore  2008-04-18     BB McCullum   \n",
       "1  335983  Chandigarh  2008-04-19      MEK Hussey   \n",
       "2  335984       Delhi  2008-04-19     MF Maharoof   \n",
       "3  335985      Mumbai  2008-04-20      MV Boucher   \n",
       "4  335986     Kolkata  2008-04-20       DJ Hussey   \n",
       "\n",
       "                                        venue  neutral_venue  \\\n",
       "0                       M Chinnaswamy Stadium              0   \n",
       "1  Punjab Cricket Association Stadium, Mohali              0   \n",
       "2                            Feroz Shah Kotla              0   \n",
       "3                            Wankhede Stadium              0   \n",
       "4                                Eden Gardens              0   \n",
       "\n",
       "                         team1                        team2  \\\n",
       "0  Royal Challengers Bangalore        Kolkata Knight Riders   \n",
       "1              Kings XI Punjab          Chennai Super Kings   \n",
       "2             Delhi Daredevils             Rajasthan Royals   \n",
       "3               Mumbai Indians  Royal Challengers Bangalore   \n",
       "4        Kolkata Knight Riders              Deccan Chargers   \n",
       "\n",
       "                   toss_winner toss_decision                       winner  \\\n",
       "0  Royal Challengers Bangalore         field        Kolkata Knight Riders   \n",
       "1          Chennai Super Kings           bat          Chennai Super Kings   \n",
       "2             Rajasthan Royals           bat             Delhi Daredevils   \n",
       "3               Mumbai Indians           bat  Royal Challengers Bangalore   \n",
       "4              Deccan Chargers           bat        Kolkata Knight Riders   \n",
       "\n",
       "    result  result_margin eliminator method    umpire1         umpire2  season  \n",
       "0     runs          140.0          N    NaN  Asad Rauf     RE Koertzen    2008  \n",
       "1     runs           33.0          N    NaN  MR Benson      SL Shastri    2008  \n",
       "2  wickets            9.0          N    NaN  Aleem Dar  GA Pratapkumar    2008  \n",
       "3  wickets            5.0          N    NaN   SJ Davis       DJ Harper    2008  \n",
       "4  wickets            5.0          N    NaN  BF Bowden     K Hariharan    2008  "
      ]
     },
     "execution_count": 6,
     "metadata": {},
     "output_type": "execute_result"
    }
   ],
   "source": [
    "matches.head()"
   ]
  },
  {
   "cell_type": "markdown",
   "id": "44b69781",
   "metadata": {
    "papermill": {
     "duration": 0.030715,
     "end_time": "2022-02-06T07:40:21.967486",
     "exception": false,
     "start_time": "2022-02-06T07:40:21.936771",
     "status": "completed"
    },
    "tags": []
   },
   "source": [
    "Added a new column called 'season' that contains the year of the matches."
   ]
  },
  {
   "cell_type": "code",
   "execution_count": 7,
   "id": "c37386aa",
   "metadata": {
    "execution": {
     "iopub.execute_input": "2022-02-06T07:40:22.036822Z",
     "iopub.status.busy": "2022-02-06T07:40:22.036107Z",
     "iopub.status.idle": "2022-02-06T07:40:22.200139Z",
     "shell.execute_reply": "2022-02-06T07:40:22.200927Z",
     "shell.execute_reply.started": "2022-02-06T06:12:34.889049Z"
    },
    "papermill": {
     "duration": 0.202541,
     "end_time": "2022-02-06T07:40:22.201164",
     "exception": false,
     "start_time": "2022-02-06T07:40:21.998623",
     "status": "completed"
    },
    "tags": []
   },
   "outputs": [
    {
     "name": "stdout",
     "output_type": "stream",
     "text": [
      "<class 'pandas.core.frame.DataFrame'>\n",
      "RangeIndex: 193468 entries, 0 to 193467\n",
      "Data columns (total 18 columns):\n",
      " #   Column            Non-Null Count   Dtype \n",
      "---  ------            --------------   ----- \n",
      " 0   id                193468 non-null  int64 \n",
      " 1   inning            193468 non-null  int64 \n",
      " 2   over              193468 non-null  int64 \n",
      " 3   ball              193468 non-null  int64 \n",
      " 4   batsman           193468 non-null  object\n",
      " 5   non_striker       193468 non-null  object\n",
      " 6   bowler            193468 non-null  object\n",
      " 7   batsman_runs      193468 non-null  int64 \n",
      " 8   extra_runs        193468 non-null  int64 \n",
      " 9   total_runs        193468 non-null  int64 \n",
      " 10  non_boundary      193468 non-null  int64 \n",
      " 11  is_wicket         193468 non-null  int64 \n",
      " 12  dismissal_kind    9495 non-null    object\n",
      " 13  player_dismissed  9495 non-null    object\n",
      " 14  fielder           6784 non-null    object\n",
      " 15  extras_type       10233 non-null   object\n",
      " 16  batting_team      193468 non-null  object\n",
      " 17  bowling_team      193277 non-null  object\n",
      "dtypes: int64(9), object(9)\n",
      "memory usage: 26.6+ MB\n"
     ]
    }
   ],
   "source": [
    "ball.info()"
   ]
  },
  {
   "cell_type": "code",
   "execution_count": 8,
   "id": "703f2566",
   "metadata": {
    "execution": {
     "iopub.execute_input": "2022-02-06T07:40:22.272486Z",
     "iopub.status.busy": "2022-02-06T07:40:22.271415Z",
     "iopub.status.idle": "2022-02-06T07:40:22.296648Z",
     "shell.execute_reply": "2022-02-06T07:40:22.295756Z",
     "shell.execute_reply.started": "2022-02-06T06:12:34.986155Z"
    },
    "papermill": {
     "duration": 0.06157,
     "end_time": "2022-02-06T07:40:22.296809",
     "exception": false,
     "start_time": "2022-02-06T07:40:22.235239",
     "status": "completed"
    },
    "tags": []
   },
   "outputs": [
    {
     "name": "stdout",
     "output_type": "stream",
     "text": [
      "<class 'pandas.core.frame.DataFrame'>\n",
      "RangeIndex: 816 entries, 0 to 815\n",
      "Data columns (total 18 columns):\n",
      " #   Column           Non-Null Count  Dtype  \n",
      "---  ------           --------------  -----  \n",
      " 0   id               816 non-null    int64  \n",
      " 1   city             803 non-null    object \n",
      " 2   date             816 non-null    object \n",
      " 3   player_of_match  812 non-null    object \n",
      " 4   venue            816 non-null    object \n",
      " 5   neutral_venue    816 non-null    int64  \n",
      " 6   team1            816 non-null    object \n",
      " 7   team2            816 non-null    object \n",
      " 8   toss_winner      816 non-null    object \n",
      " 9   toss_decision    816 non-null    object \n",
      " 10  winner           812 non-null    object \n",
      " 11  result           812 non-null    object \n",
      " 12  result_margin    799 non-null    float64\n",
      " 13  eliminator       812 non-null    object \n",
      " 14  method           19 non-null     object \n",
      " 15  umpire1          816 non-null    object \n",
      " 16  umpire2          816 non-null    object \n",
      " 17  season           816 non-null    int64  \n",
      "dtypes: float64(1), int64(3), object(14)\n",
      "memory usage: 114.9+ KB\n"
     ]
    }
   ],
   "source": [
    "matches.info()"
   ]
  },
  {
   "cell_type": "code",
   "execution_count": 9,
   "id": "2d8c69f8",
   "metadata": {
    "execution": {
     "iopub.execute_input": "2022-02-06T07:40:22.364941Z",
     "iopub.status.busy": "2022-02-06T07:40:22.364214Z",
     "iopub.status.idle": "2022-02-06T07:40:22.450351Z",
     "shell.execute_reply": "2022-02-06T07:40:22.449750Z",
     "shell.execute_reply.started": "2022-02-06T06:12:35.005359Z"
    },
    "papermill": {
     "duration": 0.121402,
     "end_time": "2022-02-06T07:40:22.450529",
     "exception": false,
     "start_time": "2022-02-06T07:40:22.329127",
     "status": "completed"
    },
    "tags": []
   },
   "outputs": [
    {
     "data": {
      "text/html": [
       "<div>\n",
       "<style scoped>\n",
       "    .dataframe tbody tr th:only-of-type {\n",
       "        vertical-align: middle;\n",
       "    }\n",
       "\n",
       "    .dataframe tbody tr th {\n",
       "        vertical-align: top;\n",
       "    }\n",
       "\n",
       "    .dataframe thead th {\n",
       "        text-align: right;\n",
       "    }\n",
       "</style>\n",
       "<table border=\"1\" class=\"dataframe\">\n",
       "  <thead>\n",
       "    <tr style=\"text-align: right;\">\n",
       "      <th></th>\n",
       "      <th>id</th>\n",
       "      <th>inning</th>\n",
       "      <th>over</th>\n",
       "      <th>ball</th>\n",
       "      <th>batsman_runs</th>\n",
       "      <th>extra_runs</th>\n",
       "      <th>total_runs</th>\n",
       "      <th>non_boundary</th>\n",
       "      <th>is_wicket</th>\n",
       "    </tr>\n",
       "  </thead>\n",
       "  <tbody>\n",
       "    <tr>\n",
       "      <th>count</th>\n",
       "      <td>1.934680e+05</td>\n",
       "      <td>193468.000000</td>\n",
       "      <td>193468.000000</td>\n",
       "      <td>193468.000000</td>\n",
       "      <td>193468.000000</td>\n",
       "      <td>193468.000000</td>\n",
       "      <td>193468.000000</td>\n",
       "      <td>193468.000000</td>\n",
       "      <td>193468.000000</td>\n",
       "    </tr>\n",
       "    <tr>\n",
       "      <th>mean</th>\n",
       "      <td>7.567688e+05</td>\n",
       "      <td>1.482131</td>\n",
       "      <td>9.177027</td>\n",
       "      <td>3.615967</td>\n",
       "      <td>1.240231</td>\n",
       "      <td>0.066414</td>\n",
       "      <td>1.306645</td>\n",
       "      <td>0.000083</td>\n",
       "      <td>0.049078</td>\n",
       "    </tr>\n",
       "    <tr>\n",
       "      <th>std</th>\n",
       "      <td>3.060971e+05</td>\n",
       "      <td>0.499682</td>\n",
       "      <td>5.676848</td>\n",
       "      <td>1.807128</td>\n",
       "      <td>1.610867</td>\n",
       "      <td>0.339991</td>\n",
       "      <td>1.598802</td>\n",
       "      <td>0.009094</td>\n",
       "      <td>0.216031</td>\n",
       "    </tr>\n",
       "    <tr>\n",
       "      <th>min</th>\n",
       "      <td>3.359820e+05</td>\n",
       "      <td>1.000000</td>\n",
       "      <td>0.000000</td>\n",
       "      <td>1.000000</td>\n",
       "      <td>0.000000</td>\n",
       "      <td>0.000000</td>\n",
       "      <td>0.000000</td>\n",
       "      <td>0.000000</td>\n",
       "      <td>0.000000</td>\n",
       "    </tr>\n",
       "    <tr>\n",
       "      <th>25%</th>\n",
       "      <td>5.012270e+05</td>\n",
       "      <td>1.000000</td>\n",
       "      <td>4.000000</td>\n",
       "      <td>2.000000</td>\n",
       "      <td>0.000000</td>\n",
       "      <td>0.000000</td>\n",
       "      <td>0.000000</td>\n",
       "      <td>0.000000</td>\n",
       "      <td>0.000000</td>\n",
       "    </tr>\n",
       "    <tr>\n",
       "      <th>50%</th>\n",
       "      <td>7.292970e+05</td>\n",
       "      <td>1.000000</td>\n",
       "      <td>9.000000</td>\n",
       "      <td>4.000000</td>\n",
       "      <td>1.000000</td>\n",
       "      <td>0.000000</td>\n",
       "      <td>1.000000</td>\n",
       "      <td>0.000000</td>\n",
       "      <td>0.000000</td>\n",
       "    </tr>\n",
       "    <tr>\n",
       "      <th>75%</th>\n",
       "      <td>1.082628e+06</td>\n",
       "      <td>2.000000</td>\n",
       "      <td>14.000000</td>\n",
       "      <td>5.000000</td>\n",
       "      <td>1.000000</td>\n",
       "      <td>0.000000</td>\n",
       "      <td>1.000000</td>\n",
       "      <td>0.000000</td>\n",
       "      <td>0.000000</td>\n",
       "    </tr>\n",
       "    <tr>\n",
       "      <th>max</th>\n",
       "      <td>1.237181e+06</td>\n",
       "      <td>2.000000</td>\n",
       "      <td>19.000000</td>\n",
       "      <td>9.000000</td>\n",
       "      <td>6.000000</td>\n",
       "      <td>7.000000</td>\n",
       "      <td>7.000000</td>\n",
       "      <td>1.000000</td>\n",
       "      <td>1.000000</td>\n",
       "    </tr>\n",
       "  </tbody>\n",
       "</table>\n",
       "</div>"
      ],
      "text/plain": [
       "                 id         inning           over           ball  \\\n",
       "count  1.934680e+05  193468.000000  193468.000000  193468.000000   \n",
       "mean   7.567688e+05       1.482131       9.177027       3.615967   \n",
       "std    3.060971e+05       0.499682       5.676848       1.807128   \n",
       "min    3.359820e+05       1.000000       0.000000       1.000000   \n",
       "25%    5.012270e+05       1.000000       4.000000       2.000000   \n",
       "50%    7.292970e+05       1.000000       9.000000       4.000000   \n",
       "75%    1.082628e+06       2.000000      14.000000       5.000000   \n",
       "max    1.237181e+06       2.000000      19.000000       9.000000   \n",
       "\n",
       "        batsman_runs     extra_runs     total_runs   non_boundary  \\\n",
       "count  193468.000000  193468.000000  193468.000000  193468.000000   \n",
       "mean        1.240231       0.066414       1.306645       0.000083   \n",
       "std         1.610867       0.339991       1.598802       0.009094   \n",
       "min         0.000000       0.000000       0.000000       0.000000   \n",
       "25%         0.000000       0.000000       0.000000       0.000000   \n",
       "50%         1.000000       0.000000       1.000000       0.000000   \n",
       "75%         1.000000       0.000000       1.000000       0.000000   \n",
       "max         6.000000       7.000000       7.000000       1.000000   \n",
       "\n",
       "           is_wicket  \n",
       "count  193468.000000  \n",
       "mean        0.049078  \n",
       "std         0.216031  \n",
       "min         0.000000  \n",
       "25%         0.000000  \n",
       "50%         0.000000  \n",
       "75%         0.000000  \n",
       "max         1.000000  "
      ]
     },
     "execution_count": 9,
     "metadata": {},
     "output_type": "execute_result"
    }
   ],
   "source": [
    "ball.describe()"
   ]
  },
  {
   "cell_type": "code",
   "execution_count": 10,
   "id": "60aec197",
   "metadata": {
    "execution": {
     "iopub.execute_input": "2022-02-06T07:40:22.519481Z",
     "iopub.status.busy": "2022-02-06T07:40:22.518839Z",
     "iopub.status.idle": "2022-02-06T07:40:22.539831Z",
     "shell.execute_reply": "2022-02-06T07:40:22.540336Z",
     "shell.execute_reply.started": "2022-02-06T06:12:35.094317Z"
    },
    "papermill": {
     "duration": 0.056712,
     "end_time": "2022-02-06T07:40:22.540548",
     "exception": false,
     "start_time": "2022-02-06T07:40:22.483836",
     "status": "completed"
    },
    "tags": []
   },
   "outputs": [
    {
     "data": {
      "text/html": [
       "<div>\n",
       "<style scoped>\n",
       "    .dataframe tbody tr th:only-of-type {\n",
       "        vertical-align: middle;\n",
       "    }\n",
       "\n",
       "    .dataframe tbody tr th {\n",
       "        vertical-align: top;\n",
       "    }\n",
       "\n",
       "    .dataframe thead th {\n",
       "        text-align: right;\n",
       "    }\n",
       "</style>\n",
       "<table border=\"1\" class=\"dataframe\">\n",
       "  <thead>\n",
       "    <tr style=\"text-align: right;\">\n",
       "      <th></th>\n",
       "      <th>id</th>\n",
       "      <th>neutral_venue</th>\n",
       "      <th>result_margin</th>\n",
       "      <th>season</th>\n",
       "    </tr>\n",
       "  </thead>\n",
       "  <tbody>\n",
       "    <tr>\n",
       "      <th>count</th>\n",
       "      <td>8.160000e+02</td>\n",
       "      <td>816.000000</td>\n",
       "      <td>799.000000</td>\n",
       "      <td>816.000000</td>\n",
       "    </tr>\n",
       "    <tr>\n",
       "      <th>mean</th>\n",
       "      <td>7.563496e+05</td>\n",
       "      <td>0.094363</td>\n",
       "      <td>17.321652</td>\n",
       "      <td>2013.926471</td>\n",
       "    </tr>\n",
       "    <tr>\n",
       "      <th>std</th>\n",
       "      <td>3.058943e+05</td>\n",
       "      <td>0.292512</td>\n",
       "      <td>22.068427</td>\n",
       "      <td>3.665054</td>\n",
       "    </tr>\n",
       "    <tr>\n",
       "      <th>min</th>\n",
       "      <td>3.359820e+05</td>\n",
       "      <td>0.000000</td>\n",
       "      <td>1.000000</td>\n",
       "      <td>2008.000000</td>\n",
       "    </tr>\n",
       "    <tr>\n",
       "      <th>25%</th>\n",
       "      <td>5.012278e+05</td>\n",
       "      <td>0.000000</td>\n",
       "      <td>6.000000</td>\n",
       "      <td>2011.000000</td>\n",
       "    </tr>\n",
       "    <tr>\n",
       "      <th>50%</th>\n",
       "      <td>7.292980e+05</td>\n",
       "      <td>0.000000</td>\n",
       "      <td>8.000000</td>\n",
       "      <td>2014.000000</td>\n",
       "    </tr>\n",
       "    <tr>\n",
       "      <th>75%</th>\n",
       "      <td>1.082626e+06</td>\n",
       "      <td>0.000000</td>\n",
       "      <td>19.500000</td>\n",
       "      <td>2017.000000</td>\n",
       "    </tr>\n",
       "    <tr>\n",
       "      <th>max</th>\n",
       "      <td>1.237181e+06</td>\n",
       "      <td>1.000000</td>\n",
       "      <td>146.000000</td>\n",
       "      <td>2020.000000</td>\n",
       "    </tr>\n",
       "  </tbody>\n",
       "</table>\n",
       "</div>"
      ],
      "text/plain": [
       "                 id  neutral_venue  result_margin       season\n",
       "count  8.160000e+02     816.000000     799.000000   816.000000\n",
       "mean   7.563496e+05       0.094363      17.321652  2013.926471\n",
       "std    3.058943e+05       0.292512      22.068427     3.665054\n",
       "min    3.359820e+05       0.000000       1.000000  2008.000000\n",
       "25%    5.012278e+05       0.000000       6.000000  2011.000000\n",
       "50%    7.292980e+05       0.000000       8.000000  2014.000000\n",
       "75%    1.082626e+06       0.000000      19.500000  2017.000000\n",
       "max    1.237181e+06       1.000000     146.000000  2020.000000"
      ]
     },
     "execution_count": 10,
     "metadata": {},
     "output_type": "execute_result"
    }
   ],
   "source": [
    "matches.describe()"
   ]
  },
  {
   "cell_type": "code",
   "execution_count": 11,
   "id": "3c29864d",
   "metadata": {
    "execution": {
     "iopub.execute_input": "2022-02-06T07:40:22.609808Z",
     "iopub.status.busy": "2022-02-06T07:40:22.609097Z",
     "iopub.status.idle": "2022-02-06T07:40:22.614972Z",
     "shell.execute_reply": "2022-02-06T07:40:22.614393Z",
     "shell.execute_reply.started": "2022-02-06T06:12:35.119685Z"
    },
    "papermill": {
     "duration": 0.041273,
     "end_time": "2022-02-06T07:40:22.615123",
     "exception": false,
     "start_time": "2022-02-06T07:40:22.573850",
     "status": "completed"
    },
    "tags": []
   },
   "outputs": [
    {
     "data": {
      "text/plain": [
       "(193468, 18)"
      ]
     },
     "execution_count": 11,
     "metadata": {},
     "output_type": "execute_result"
    }
   ],
   "source": [
    "ball.shape"
   ]
  },
  {
   "cell_type": "code",
   "execution_count": 12,
   "id": "89570c50",
   "metadata": {
    "execution": {
     "iopub.execute_input": "2022-02-06T07:40:22.688715Z",
     "iopub.status.busy": "2022-02-06T07:40:22.687979Z",
     "iopub.status.idle": "2022-02-06T07:40:22.690506Z",
     "shell.execute_reply": "2022-02-06T07:40:22.690997Z",
     "shell.execute_reply.started": "2022-02-06T06:12:35.127302Z"
    },
    "papermill": {
     "duration": 0.041191,
     "end_time": "2022-02-06T07:40:22.691164",
     "exception": false,
     "start_time": "2022-02-06T07:40:22.649973",
     "status": "completed"
    },
    "tags": []
   },
   "outputs": [
    {
     "data": {
      "text/plain": [
       "(816, 18)"
      ]
     },
     "execution_count": 12,
     "metadata": {},
     "output_type": "execute_result"
    }
   ],
   "source": [
    "matches.shape"
   ]
  },
  {
   "cell_type": "code",
   "execution_count": 13,
   "id": "13985209",
   "metadata": {
    "execution": {
     "iopub.execute_input": "2022-02-06T07:40:22.762717Z",
     "iopub.status.busy": "2022-02-06T07:40:22.762069Z",
     "iopub.status.idle": "2022-02-06T07:40:22.909893Z",
     "shell.execute_reply": "2022-02-06T07:40:22.910535Z",
     "shell.execute_reply.started": "2022-02-06T06:12:35.139997Z"
    },
    "papermill": {
     "duration": 0.185744,
     "end_time": "2022-02-06T07:40:22.910732",
     "exception": false,
     "start_time": "2022-02-06T07:40:22.724988",
     "status": "completed"
    },
    "tags": []
   },
   "outputs": [
    {
     "name": "stdout",
     "output_type": "stream",
     "text": [
      "The matches set has 843 missing values, and the ball set has 738056.\n"
     ]
    }
   ],
   "source": [
    "print(f\"The matches set has {matches.isnull().sum().sum()} missing values, and the ball set has {ball.isnull().sum().sum()}.\")"
   ]
  },
  {
   "cell_type": "markdown",
   "id": "7dc29fe2",
   "metadata": {
    "papermill": {
     "duration": 0.034223,
     "end_time": "2022-02-06T07:40:22.979997",
     "exception": false,
     "start_time": "2022-02-06T07:40:22.945774",
     "status": "completed"
    },
    "tags": []
   },
   "source": [
    "**From this we can see that the matches dataset contains 816 rows and 17 columns. Also the 'city', 'player_of_match', 'winner', 'result', 'result_margin', 'eliminator' and 'method' columns contain missing values. It has a total of 843 missing values. We have 14 categorical columns and 3 numerical ones.**\n",
    "\n",
    "**The ball dataset whereas contains 193468 rows and 18 columns. In this 'dismissal_kind', 'player_dismissed', 'fielder', 'extras_type' contain missing values. It has a total of 738056 missing values. We have 9 categorical columns and 9 numerical ones.**"
   ]
  },
  {
   "cell_type": "markdown",
   "id": "2b07f890",
   "metadata": {
    "papermill": {
     "duration": 0.033374,
     "end_time": "2022-02-06T07:40:23.047500",
     "exception": false,
     "start_time": "2022-02-06T07:40:23.014126",
     "status": "completed"
    },
    "tags": []
   },
   "source": [
    "# **Exploratory Data Analysis**"
   ]
  },
  {
   "cell_type": "code",
   "execution_count": 14,
   "id": "f64e16ad",
   "metadata": {
    "execution": {
     "iopub.execute_input": "2022-02-06T07:40:23.124666Z",
     "iopub.status.busy": "2022-02-06T07:40:23.123956Z",
     "iopub.status.idle": "2022-02-06T07:40:24.989607Z",
     "shell.execute_reply": "2022-02-06T07:40:24.988457Z",
     "shell.execute_reply.started": "2022-02-06T06:12:35.226008Z"
    },
    "papermill": {
     "duration": 1.907798,
     "end_time": "2022-02-06T07:40:24.989789",
     "exception": false,
     "start_time": "2022-02-06T07:40:23.081991",
     "status": "completed"
    },
    "tags": []
   },
   "outputs": [
    {
     "data": {
      "text/plain": [
       "<Figure size 1296x1152 with 0 Axes>"
      ]
     },
     "metadata": {},
     "output_type": "display_data"
    },
    {
     "data": {
      "image/png": "[encoded data removed]",
      "text/plain": [
       "<Figure size 1165.78x360 with 1 Axes>"
      ]
     },
     "metadata": {},
     "output_type": "display_data"
    },
    {
     "data": {
      "image/png": "[encoded data removed]",
      "text/plain": [
       "<Figure size 1296x720 with 2 Axes>"
      ]
     },
     "metadata": {},
     "output_type": "display_data"
    }
   ],
   "source": [
    "plt.figure(figsize=(18,16))\n",
    "sns.displot(\n",
    "    data=matches.isna().melt(value_name=\"missing\"),\n",
    "    y=\"variable\",\n",
    "    hue=\"missing\",\n",
    "    multiple=\"fill\",\n",
    "    aspect=3,\n",
    "    palette='copper' \n",
    ")\n",
    "plt.title('Bar plot showing Non-Missing Values in Matches data', weight = 'bold', size = 20, color = 'brown')\n",
    "plt.xlabel(\" \")\n",
    "plt.ylabel(\" \")\n",
    "plt.xticks(size = 12, weight = 'bold', color = 'maroon')\n",
    "plt.yticks(size = 12, weight = 'bold', color = 'maroon');\n",
    "\n",
    "plt.figure(figsize=(18,10))\n",
    "sns.heatmap(matches.isna().transpose(),\n",
    "            cmap=\"copper\",\n",
    "            cbar_kws={'label': 'Missing Data'})\n",
    "plt.title('Heatmap showing Missing Values in Matches data', weight = 'bold', size = 20, color = 'brown')\n",
    "plt.xticks(size = 12, color = 'maroon')\n",
    "plt.yticks(size = 12, color = 'maroon')\n",
    "plt.show();"
   ]
  },
  {
   "cell_type": "markdown",
   "id": "cde82d4a",
   "metadata": {
    "papermill": {
     "duration": 0.039617,
     "end_time": "2022-02-06T07:40:25.068029",
     "exception": false,
     "start_time": "2022-02-06T07:40:25.028412",
     "status": "completed"
    },
    "tags": []
   },
   "source": [
    "**From this we can see that the method column has the most number of missing values with majority of them missing. First let us see what the method column contains**"
   ]
  },
  {
   "cell_type": "code",
   "execution_count": 15,
   "id": "6c988f5f",
   "metadata": {
    "execution": {
     "iopub.execute_input": "2022-02-06T07:40:25.160131Z",
     "iopub.status.busy": "2022-02-06T07:40:25.159043Z",
     "iopub.status.idle": "2022-02-06T07:40:25.172100Z",
     "shell.execute_reply": "2022-02-06T07:40:25.172576Z",
     "shell.execute_reply.started": "2022-02-06T06:12:36.895824Z"
    },
    "papermill": {
     "duration": 0.06574,
     "end_time": "2022-02-06T07:40:25.172770",
     "exception": false,
     "start_time": "2022-02-06T07:40:25.107030",
     "status": "completed"
    },
    "tags": []
   },
   "outputs": [
    {
     "data": {
      "text/html": [
       "<div>\n",
       "<style scoped>\n",
       "    .dataframe tbody tr th:only-of-type {\n",
       "        vertical-align: middle;\n",
       "    }\n",
       "\n",
       "    .dataframe tbody tr th {\n",
       "        vertical-align: top;\n",
       "    }\n",
       "\n",
       "    .dataframe thead th {\n",
       "        text-align: right;\n",
       "    }\n",
       "</style>\n",
       "<table border=\"1\" class=\"dataframe\">\n",
       "  <thead>\n",
       "    <tr style=\"text-align: right;\">\n",
       "      <th></th>\n",
       "      <th>id</th>\n",
       "      <th>city</th>\n",
       "      <th>date</th>\n",
       "      <th>player_of_match</th>\n",
       "      <th>venue</th>\n",
       "      <th>neutral_venue</th>\n",
       "      <th>team1</th>\n",
       "      <th>team2</th>\n",
       "      <th>toss_winner</th>\n",
       "      <th>toss_decision</th>\n",
       "      <th>winner</th>\n",
       "      <th>result</th>\n",
       "      <th>result_margin</th>\n",
       "      <th>eliminator</th>\n",
       "      <th>method</th>\n",
       "      <th>umpire1</th>\n",
       "      <th>umpire2</th>\n",
       "      <th>season</th>\n",
       "    </tr>\n",
       "  </thead>\n",
       "  <tbody>\n",
       "    <tr>\n",
       "      <th>40</th>\n",
       "      <td>336022</td>\n",
       "      <td>Delhi</td>\n",
       "      <td>2008-05-17</td>\n",
       "      <td>DPMD Jayawardene</td>\n",
       "      <td>Feroz Shah Kotla</td>\n",
       "      <td>0</td>\n",
       "      <td>Delhi Daredevils</td>\n",
       "      <td>Kings XI Punjab</td>\n",
       "      <td>Delhi Daredevils</td>\n",
       "      <td>bat</td>\n",
       "      <td>Kings XI Punjab</td>\n",
       "      <td>runs</td>\n",
       "      <td>6.0</td>\n",
       "      <td>N</td>\n",
       "      <td>D/L</td>\n",
       "      <td>AV Jayaprakash</td>\n",
       "      <td>RE Koertzen</td>\n",
       "      <td>2008</td>\n",
       "    </tr>\n",
       "    <tr>\n",
       "      <th>43</th>\n",
       "      <td>336025</td>\n",
       "      <td>Kolkata</td>\n",
       "      <td>2008-05-18</td>\n",
       "      <td>M Ntini</td>\n",
       "      <td>Eden Gardens</td>\n",
       "      <td>0</td>\n",
       "      <td>Kolkata Knight Riders</td>\n",
       "      <td>Chennai Super Kings</td>\n",
       "      <td>Kolkata Knight Riders</td>\n",
       "      <td>bat</td>\n",
       "      <td>Chennai Super Kings</td>\n",
       "      <td>runs</td>\n",
       "      <td>3.0</td>\n",
       "      <td>N</td>\n",
       "      <td>D/L</td>\n",
       "      <td>Asad Rauf</td>\n",
       "      <td>K Hariharan</td>\n",
       "      <td>2008</td>\n",
       "    </tr>\n",
       "    <tr>\n",
       "      <th>60</th>\n",
       "      <td>392183</td>\n",
       "      <td>Cape Town</td>\n",
       "      <td>2009-04-19</td>\n",
       "      <td>DL Vettori</td>\n",
       "      <td>Newlands</td>\n",
       "      <td>1</td>\n",
       "      <td>Delhi Daredevils</td>\n",
       "      <td>Kings XI Punjab</td>\n",
       "      <td>Delhi Daredevils</td>\n",
       "      <td>field</td>\n",
       "      <td>Delhi Daredevils</td>\n",
       "      <td>wickets</td>\n",
       "      <td>10.0</td>\n",
       "      <td>N</td>\n",
       "      <td>D/L</td>\n",
       "      <td>MR Benson</td>\n",
       "      <td>SD Ranade</td>\n",
       "      <td>2009</td>\n",
       "    </tr>\n",
       "    <tr>\n",
       "      <th>63</th>\n",
       "      <td>392186</td>\n",
       "      <td>Durban</td>\n",
       "      <td>2009-04-21</td>\n",
       "      <td>CH Gayle</td>\n",
       "      <td>Kingsmead</td>\n",
       "      <td>1</td>\n",
       "      <td>Kings XI Punjab</td>\n",
       "      <td>Kolkata Knight Riders</td>\n",
       "      <td>Kolkata Knight Riders</td>\n",
       "      <td>field</td>\n",
       "      <td>Kolkata Knight Riders</td>\n",
       "      <td>runs</td>\n",
       "      <td>11.0</td>\n",
       "      <td>N</td>\n",
       "      <td>D/L</td>\n",
       "      <td>DJ Harper</td>\n",
       "      <td>SD Ranade</td>\n",
       "      <td>2009</td>\n",
       "    </tr>\n",
       "    <tr>\n",
       "      <th>89</th>\n",
       "      <td>392214</td>\n",
       "      <td>Centurion</td>\n",
       "      <td>2009-05-07</td>\n",
       "      <td>ML Hayden</td>\n",
       "      <td>SuperSport Park</td>\n",
       "      <td>1</td>\n",
       "      <td>Chennai Super Kings</td>\n",
       "      <td>Kings XI Punjab</td>\n",
       "      <td>Chennai Super Kings</td>\n",
       "      <td>bat</td>\n",
       "      <td>Chennai Super Kings</td>\n",
       "      <td>runs</td>\n",
       "      <td>12.0</td>\n",
       "      <td>N</td>\n",
       "      <td>D/L</td>\n",
       "      <td>DJ Harper</td>\n",
       "      <td>TH Wijewardene</td>\n",
       "      <td>2009</td>\n",
       "    </tr>\n",
       "  </tbody>\n",
       "</table>\n",
       "</div>"
      ],
      "text/plain": [
       "        id       city        date   player_of_match             venue  \\\n",
       "40  336022      Delhi  2008-05-17  DPMD Jayawardene  Feroz Shah Kotla   \n",
       "43  336025    Kolkata  2008-05-18           M Ntini      Eden Gardens   \n",
       "60  392183  Cape Town  2009-04-19        DL Vettori          Newlands   \n",
       "63  392186     Durban  2009-04-21          CH Gayle         Kingsmead   \n",
       "89  392214  Centurion  2009-05-07         ML Hayden   SuperSport Park   \n",
       "\n",
       "    neutral_venue                  team1                  team2  \\\n",
       "40              0       Delhi Daredevils        Kings XI Punjab   \n",
       "43              0  Kolkata Knight Riders    Chennai Super Kings   \n",
       "60              1       Delhi Daredevils        Kings XI Punjab   \n",
       "63              1        Kings XI Punjab  Kolkata Knight Riders   \n",
       "89              1    Chennai Super Kings        Kings XI Punjab   \n",
       "\n",
       "              toss_winner toss_decision                 winner   result  \\\n",
       "40       Delhi Daredevils           bat        Kings XI Punjab     runs   \n",
       "43  Kolkata Knight Riders           bat    Chennai Super Kings     runs   \n",
       "60       Delhi Daredevils         field       Delhi Daredevils  wickets   \n",
       "63  Kolkata Knight Riders         field  Kolkata Knight Riders     runs   \n",
       "89    Chennai Super Kings           bat    Chennai Super Kings     runs   \n",
       "\n",
       "    result_margin eliminator method         umpire1         umpire2  season  \n",
       "40            6.0          N    D/L  AV Jayaprakash     RE Koertzen    2008  \n",
       "43            3.0          N    D/L       Asad Rauf     K Hariharan    2008  \n",
       "60           10.0          N    D/L       MR Benson       SD Ranade    2009  \n",
       "63           11.0          N    D/L       DJ Harper       SD Ranade    2009  \n",
       "89           12.0          N    D/L       DJ Harper  TH Wijewardene    2009  "
      ]
     },
     "execution_count": 15,
     "metadata": {},
     "output_type": "execute_result"
    }
   ],
   "source": [
    "cd=matches.dropna(subset=['method'])\n",
    "cd.head()"
   ]
  },
  {
   "cell_type": "markdown",
   "id": "517044a9",
   "metadata": {
    "papermill": {
     "duration": 0.0387,
     "end_time": "2022-02-06T07:40:25.251375",
     "exception": false,
     "start_time": "2022-02-06T07:40:25.212675",
     "status": "completed"
    },
    "tags": []
   },
   "source": [
    "**The Duckworth–Lewis method (often written as D/L method) is a mathematical formulation designed to calculate the target score for the team batting second in a limited overs cricket match interrupted by weather or other circumstances. It is generally accepted to be the most accurate method of setting a target score.**"
   ]
  },
  {
   "cell_type": "code",
   "execution_count": 16,
   "id": "311660d1",
   "metadata": {
    "execution": {
     "iopub.execute_input": "2022-02-06T07:40:25.334085Z",
     "iopub.status.busy": "2022-02-06T07:40:25.333061Z",
     "iopub.status.idle": "2022-02-06T07:40:44.664494Z",
     "shell.execute_reply": "2022-02-06T07:40:44.665027Z",
     "shell.execute_reply.started": "2022-02-06T06:12:36.920514Z"
    },
    "papermill": {
     "duration": 19.374526,
     "end_time": "2022-02-06T07:40:44.665214",
     "exception": false,
     "start_time": "2022-02-06T07:40:25.290688",
     "status": "completed"
    },
    "tags": []
   },
   "outputs": [
    {
     "data": {
      "text/plain": [
       "<Figure size 1296x1152 with 0 Axes>"
      ]
     },
     "metadata": {},
     "output_type": "display_data"
    },
    {
     "data": {
      "image/png": "[encoded data removed]",
      "text/plain": [
       "<Figure size 1165.78x360 with 1 Axes>"
      ]
     },
     "metadata": {},
     "output_type": "display_data"
    },
    {
     "data": {
      "image/png": "[encoded data removed]",
      "text/plain": [
       "<Figure size 1296x720 with 2 Axes>"
      ]
     },
     "metadata": {},
     "output_type": "display_data"
    }
   ],
   "source": [
    "plt.figure(figsize=(18,16))\n",
    "sns.displot(\n",
    "    data=ball.isna().melt(value_name=\"missing\"),\n",
    "    y=\"variable\",\n",
    "    hue=\"missing\",\n",
    "    multiple=\"fill\",\n",
    "    aspect=3,\n",
    "    palette='copper' \n",
    ")\n",
    "plt.title('Bar plot showing Non-Missing Values in Ball data', weight = 'bold', size = 20, color = 'brown')\n",
    "plt.xlabel(\" \")\n",
    "plt.ylabel(\" \")\n",
    "plt.xticks(size = 12, weight = 'bold', color = 'maroon')\n",
    "plt.yticks(size = 12, weight = 'bold', color = 'maroon');\n",
    "\n",
    "plt.figure(figsize=(18,10))\n",
    "sns.heatmap(ball.isna().transpose(),\n",
    "            cmap=\"copper\",\n",
    "            cbar_kws={'label': 'Missing Data'})\n",
    "plt.title('Heatmap showing Missing Values in Ball data', weight = 'bold', size = 20, color = 'brown')\n",
    "plt.xticks(size = 12, color = 'maroon')\n",
    "plt.yticks(size = 12, color = 'maroon')\n",
    "plt.show();"
   ]
  },
  {
   "cell_type": "markdown",
   "id": "bc47abc3",
   "metadata": {
    "papermill": {
     "duration": 0.042999,
     "end_time": "2022-02-06T07:40:44.752117",
     "exception": false,
     "start_time": "2022-02-06T07:40:44.709118",
     "status": "completed"
    },
    "tags": []
   },
   "source": [
    "**Almost all of the data is missing in the 'dismissal_kind', 'player_dismissed', 'fielder', 'extras_type' columns. this could be due to information getting lost or not being recorded properly**"
   ]
  },
  {
   "cell_type": "code",
   "execution_count": 17,
   "id": "e962192d",
   "metadata": {
    "execution": {
     "iopub.execute_input": "2022-02-06T07:40:44.845838Z",
     "iopub.status.busy": "2022-02-06T07:40:44.844256Z",
     "iopub.status.idle": "2022-02-06T07:40:45.221419Z",
     "shell.execute_reply": "2022-02-06T07:40:45.221937Z",
     "shell.execute_reply.started": "2022-02-06T06:12:53.768256Z"
    },
    "papermill": {
     "duration": 0.426886,
     "end_time": "2022-02-06T07:40:45.222117",
     "exception": false,
     "start_time": "2022-02-06T07:40:44.795231",
     "status": "completed"
    },
    "tags": []
   },
   "outputs": [
    {
     "data": {
      "text/plain": [
       "<AxesSubplot:>"
      ]
     },
     "execution_count": 17,
     "metadata": {},
     "output_type": "execute_result"
    },
    {
     "data": {
      "image/png": "[encoded data removed]",
      "text/plain": [
       "<Figure size 432x288 with 2 Axes>"
      ]
     },
     "metadata": {},
     "output_type": "display_data"
    }
   ],
   "source": [
    "sns.heatmap(ball.corr(), square=True)"
   ]
  },
  {
   "cell_type": "markdown",
   "id": "344c3e04",
   "metadata": {
    "papermill": {
     "duration": 0.046617,
     "end_time": "2022-02-06T07:40:45.315114",
     "exception": false,
     "start_time": "2022-02-06T07:40:45.268497",
     "status": "completed"
    },
    "tags": []
   },
   "source": [
    "**There isnt much correlation between these factors which makes sense.**"
   ]
  },
  {
   "cell_type": "markdown",
   "id": "42059767",
   "metadata": {
    "papermill": {
     "duration": 0.045466,
     "end_time": "2022-02-06T07:40:45.406034",
     "exception": false,
     "start_time": "2022-02-06T07:40:45.360568",
     "status": "completed"
    },
    "tags": []
   },
   "source": [
    "# **Most Runs Scored**"
   ]
  },
  {
   "cell_type": "code",
   "execution_count": 18,
   "id": "5af4278a",
   "metadata": {
    "execution": {
     "iopub.execute_input": "2022-02-06T07:40:45.503831Z",
     "iopub.status.busy": "2022-02-06T07:40:45.502857Z",
     "iopub.status.idle": "2022-02-06T07:40:45.520067Z",
     "shell.execute_reply": "2022-02-06T07:40:45.519350Z",
     "shell.execute_reply.started": "2022-02-06T06:26:54.019038Z"
    },
    "papermill": {
     "duration": 0.06842,
     "end_time": "2022-02-06T07:40:45.520213",
     "exception": false,
     "start_time": "2022-02-06T07:40:45.451793",
     "status": "completed"
    },
    "tags": []
   },
   "outputs": [
    {
     "data": {
      "text/html": [
       "<div>\n",
       "<style scoped>\n",
       "    .dataframe tbody tr th:only-of-type {\n",
       "        vertical-align: middle;\n",
       "    }\n",
       "\n",
       "    .dataframe tbody tr th {\n",
       "        vertical-align: top;\n",
       "    }\n",
       "\n",
       "    .dataframe thead th {\n",
       "        text-align: right;\n",
       "    }\n",
       "</style>\n",
       "<table border=\"1\" class=\"dataframe\">\n",
       "  <thead>\n",
       "    <tr style=\"text-align: right;\">\n",
       "      <th></th>\n",
       "      <th>id</th>\n",
       "      <th>total_runs</th>\n",
       "    </tr>\n",
       "  </thead>\n",
       "  <tbody>\n",
       "    <tr>\n",
       "      <th>146</th>\n",
       "      <td>419137</td>\n",
       "      <td>469</td>\n",
       "    </tr>\n",
       "    <tr>\n",
       "      <th>679</th>\n",
       "      <td>1136604</td>\n",
       "      <td>459</td>\n",
       "    </tr>\n",
       "    <tr>\n",
       "      <th>626</th>\n",
       "      <td>1082641</td>\n",
       "      <td>453</td>\n",
       "    </tr>\n",
       "    <tr>\n",
       "      <th>791</th>\n",
       "      <td>1216527</td>\n",
       "      <td>449</td>\n",
       "    </tr>\n",
       "    <tr>\n",
       "      <th>1</th>\n",
       "      <td>335983</td>\n",
       "      <td>447</td>\n",
       "    </tr>\n",
       "    <tr>\n",
       "      <th>...</th>\n",
       "      <td>...</td>\n",
       "      <td>...</td>\n",
       "    </tr>\n",
       "    <tr>\n",
       "      <th>411</th>\n",
       "      <td>729305</td>\n",
       "      <td>141</td>\n",
       "    </tr>\n",
       "    <tr>\n",
       "      <th>611</th>\n",
       "      <td>1082626</td>\n",
       "      <td>135</td>\n",
       "    </tr>\n",
       "    <tr>\n",
       "      <th>39</th>\n",
       "      <td>336021</td>\n",
       "      <td>135</td>\n",
       "    </tr>\n",
       "    <tr>\n",
       "      <th>744</th>\n",
       "      <td>1178424</td>\n",
       "      <td>103</td>\n",
       "    </tr>\n",
       "    <tr>\n",
       "      <th>241</th>\n",
       "      <td>501265</td>\n",
       "      <td>56</td>\n",
       "    </tr>\n",
       "  </tbody>\n",
       "</table>\n",
       "<p>816 rows × 2 columns</p>\n",
       "</div>"
      ],
      "text/plain": [
       "          id  total_runs\n",
       "146   419137         469\n",
       "679  1136604         459\n",
       "626  1082641         453\n",
       "791  1216527         449\n",
       "1     335983         447\n",
       "..       ...         ...\n",
       "411   729305         141\n",
       "611  1082626         135\n",
       "39    336021         135\n",
       "744  1178424         103\n",
       "241   501265          56\n",
       "\n",
       "[816 rows x 2 columns]"
      ]
     },
     "metadata": {},
     "output_type": "display_data"
    }
   ],
   "source": [
    "mostruns=ball.groupby(['id'])['total_runs'].sum().reset_index()\n",
    "mostruns=mostruns.sort_values(by = 'total_runs', ascending=False)\n",
    "display(mostruns)"
   ]
  },
  {
   "cell_type": "code",
   "execution_count": 19,
   "id": "d618947d",
   "metadata": {
    "execution": {
     "iopub.execute_input": "2022-02-06T07:40:45.622838Z",
     "iopub.status.busy": "2022-02-06T07:40:45.621607Z",
     "iopub.status.idle": "2022-02-06T07:40:45.646528Z",
     "shell.execute_reply": "2022-02-06T07:40:45.647103Z",
     "shell.execute_reply.started": "2022-02-06T06:31:32.994400Z"
    },
    "papermill": {
     "duration": 0.078674,
     "end_time": "2022-02-06T07:40:45.647275",
     "exception": false,
     "start_time": "2022-02-06T07:40:45.568601",
     "status": "completed"
    },
    "tags": []
   },
   "outputs": [
    {
     "data": {
      "text/html": [
       "<div>\n",
       "<style scoped>\n",
       "    .dataframe tbody tr th:only-of-type {\n",
       "        vertical-align: middle;\n",
       "    }\n",
       "\n",
       "    .dataframe tbody tr th {\n",
       "        vertical-align: top;\n",
       "    }\n",
       "\n",
       "    .dataframe thead th {\n",
       "        text-align: right;\n",
       "    }\n",
       "</style>\n",
       "<table border=\"1\" class=\"dataframe\">\n",
       "  <thead>\n",
       "    <tr style=\"text-align: right;\">\n",
       "      <th></th>\n",
       "      <th>id</th>\n",
       "      <th>total_runs</th>\n",
       "      <th>city</th>\n",
       "      <th>date</th>\n",
       "      <th>player_of_match</th>\n",
       "      <th>venue</th>\n",
       "      <th>neutral_venue</th>\n",
       "      <th>team1</th>\n",
       "      <th>team2</th>\n",
       "      <th>toss_winner</th>\n",
       "      <th>toss_decision</th>\n",
       "      <th>winner</th>\n",
       "      <th>result</th>\n",
       "      <th>result_margin</th>\n",
       "      <th>eliminator</th>\n",
       "      <th>method</th>\n",
       "      <th>umpire1</th>\n",
       "      <th>umpire2</th>\n",
       "      <th>season</th>\n",
       "    </tr>\n",
       "  </thead>\n",
       "  <tbody>\n",
       "    <tr>\n",
       "      <th>0</th>\n",
       "      <td>419137</td>\n",
       "      <td>469</td>\n",
       "      <td>Chennai</td>\n",
       "      <td>2010-04-03</td>\n",
       "      <td>M Vijay</td>\n",
       "      <td>MA Chidambaram Stadium, Chepauk</td>\n",
       "      <td>0</td>\n",
       "      <td>Chennai Super Kings</td>\n",
       "      <td>Rajasthan Royals</td>\n",
       "      <td>Chennai Super Kings</td>\n",
       "      <td>bat</td>\n",
       "      <td>Chennai Super Kings</td>\n",
       "      <td>runs</td>\n",
       "      <td>23.0</td>\n",
       "      <td>N</td>\n",
       "      <td>NaN</td>\n",
       "      <td>RE Koertzen</td>\n",
       "      <td>RB Tiffin</td>\n",
       "      <td>2010</td>\n",
       "    </tr>\n",
       "    <tr>\n",
       "      <th>1</th>\n",
       "      <td>1136604</td>\n",
       "      <td>459</td>\n",
       "      <td>Indore</td>\n",
       "      <td>2018-05-12</td>\n",
       "      <td>SP Narine</td>\n",
       "      <td>Holkar Cricket Stadium</td>\n",
       "      <td>0</td>\n",
       "      <td>Kings XI Punjab</td>\n",
       "      <td>Kolkata Knight Riders</td>\n",
       "      <td>Kings XI Punjab</td>\n",
       "      <td>field</td>\n",
       "      <td>Kolkata Knight Riders</td>\n",
       "      <td>runs</td>\n",
       "      <td>31.0</td>\n",
       "      <td>N</td>\n",
       "      <td>NaN</td>\n",
       "      <td>VK Sharma</td>\n",
       "      <td>CK Nandan</td>\n",
       "      <td>2018</td>\n",
       "    </tr>\n",
       "    <tr>\n",
       "      <th>2</th>\n",
       "      <td>1082641</td>\n",
       "      <td>453</td>\n",
       "      <td>Mumbai</td>\n",
       "      <td>2017-05-11</td>\n",
       "      <td>WP Saha</td>\n",
       "      <td>Wankhede Stadium</td>\n",
       "      <td>0</td>\n",
       "      <td>Mumbai Indians</td>\n",
       "      <td>Kings XI Punjab</td>\n",
       "      <td>Mumbai Indians</td>\n",
       "      <td>field</td>\n",
       "      <td>Kings XI Punjab</td>\n",
       "      <td>runs</td>\n",
       "      <td>7.0</td>\n",
       "      <td>N</td>\n",
       "      <td>NaN</td>\n",
       "      <td>A Deshmukh</td>\n",
       "      <td>A Nand Kishore</td>\n",
       "      <td>2017</td>\n",
       "    </tr>\n",
       "    <tr>\n",
       "      <th>3</th>\n",
       "      <td>1216527</td>\n",
       "      <td>449</td>\n",
       "      <td>Sharjah</td>\n",
       "      <td>2020-09-27</td>\n",
       "      <td>SV Samson</td>\n",
       "      <td>Sharjah Cricket Stadium</td>\n",
       "      <td>0</td>\n",
       "      <td>Kings XI Punjab</td>\n",
       "      <td>Rajasthan Royals</td>\n",
       "      <td>Rajasthan Royals</td>\n",
       "      <td>field</td>\n",
       "      <td>Rajasthan Royals</td>\n",
       "      <td>wickets</td>\n",
       "      <td>4.0</td>\n",
       "      <td>N</td>\n",
       "      <td>NaN</td>\n",
       "      <td>RK Illingworth</td>\n",
       "      <td>K Srinivasan</td>\n",
       "      <td>2020</td>\n",
       "    </tr>\n",
       "    <tr>\n",
       "      <th>4</th>\n",
       "      <td>335983</td>\n",
       "      <td>447</td>\n",
       "      <td>Chandigarh</td>\n",
       "      <td>2008-04-19</td>\n",
       "      <td>MEK Hussey</td>\n",
       "      <td>Punjab Cricket Association Stadium, Mohali</td>\n",
       "      <td>0</td>\n",
       "      <td>Kings XI Punjab</td>\n",
       "      <td>Chennai Super Kings</td>\n",
       "      <td>Chennai Super Kings</td>\n",
       "      <td>bat</td>\n",
       "      <td>Chennai Super Kings</td>\n",
       "      <td>runs</td>\n",
       "      <td>33.0</td>\n",
       "      <td>N</td>\n",
       "      <td>NaN</td>\n",
       "      <td>MR Benson</td>\n",
       "      <td>SL Shastri</td>\n",
       "      <td>2008</td>\n",
       "    </tr>\n",
       "  </tbody>\n",
       "</table>\n",
       "</div>"
      ],
      "text/plain": [
       "        id  total_runs        city        date player_of_match  \\\n",
       "0   419137         469     Chennai  2010-04-03         M Vijay   \n",
       "1  1136604         459      Indore  2018-05-12       SP Narine   \n",
       "2  1082641         453      Mumbai  2017-05-11         WP Saha   \n",
       "3  1216527         449     Sharjah  2020-09-27       SV Samson   \n",
       "4   335983         447  Chandigarh  2008-04-19      MEK Hussey   \n",
       "\n",
       "                                        venue  neutral_venue  \\\n",
       "0             MA Chidambaram Stadium, Chepauk              0   \n",
       "1                      Holkar Cricket Stadium              0   \n",
       "2                            Wankhede Stadium              0   \n",
       "3                     Sharjah Cricket Stadium              0   \n",
       "4  Punjab Cricket Association Stadium, Mohali              0   \n",
       "\n",
       "                 team1                  team2          toss_winner  \\\n",
       "0  Chennai Super Kings       Rajasthan Royals  Chennai Super Kings   \n",
       "1      Kings XI Punjab  Kolkata Knight Riders      Kings XI Punjab   \n",
       "2       Mumbai Indians        Kings XI Punjab       Mumbai Indians   \n",
       "3      Kings XI Punjab       Rajasthan Royals     Rajasthan Royals   \n",
       "4      Kings XI Punjab    Chennai Super Kings  Chennai Super Kings   \n",
       "\n",
       "  toss_decision                 winner   result  result_margin eliminator  \\\n",
       "0           bat    Chennai Super Kings     runs           23.0          N   \n",
       "1         field  Kolkata Knight Riders     runs           31.0          N   \n",
       "2         field        Kings XI Punjab     runs            7.0          N   \n",
       "3         field       Rajasthan Royals  wickets            4.0          N   \n",
       "4           bat    Chennai Super Kings     runs           33.0          N   \n",
       "\n",
       "  method         umpire1         umpire2  season  \n",
       "0    NaN     RE Koertzen       RB Tiffin    2010  \n",
       "1    NaN       VK Sharma       CK Nandan    2018  \n",
       "2    NaN      A Deshmukh  A Nand Kishore    2017  \n",
       "3    NaN  RK Illingworth    K Srinivasan    2020  \n",
       "4    NaN       MR Benson      SL Shastri    2008  "
      ]
     },
     "execution_count": 19,
     "metadata": {},
     "output_type": "execute_result"
    }
   ],
   "source": [
    "merged_df=mostruns[['id', 'total_runs']].merge(matches, left_on='id', right_on='id', how='left')\n",
    "merged_df.head()"
   ]
  },
  {
   "cell_type": "markdown",
   "id": "695fa90d",
   "metadata": {
    "papermill": {
     "duration": 0.045917,
     "end_time": "2022-02-06T07:40:45.739945",
     "exception": false,
     "start_time": "2022-02-06T07:40:45.694028",
     "status": "completed"
    },
    "tags": []
   },
   "source": [
    "**From this we can see that the most runs scored in a match are 469 and it was during the 2010 match between CSK and Rajasthan Royals**"
   ]
  },
  {
   "cell_type": "markdown",
   "id": "d18c7721",
   "metadata": {
    "papermill": {
     "duration": 0.047481,
     "end_time": "2022-02-06T07:40:45.834276",
     "exception": false,
     "start_time": "2022-02-06T07:40:45.786795",
     "status": "completed"
    },
    "tags": []
   },
   "source": [
    "# **Most runs scored by batsmen**"
   ]
  },
  {
   "cell_type": "code",
   "execution_count": 20,
   "id": "bde30619",
   "metadata": {
    "execution": {
     "iopub.execute_input": "2022-02-06T07:40:45.944943Z",
     "iopub.status.busy": "2022-02-06T07:40:45.944164Z",
     "iopub.status.idle": "2022-02-06T07:40:45.969002Z",
     "shell.execute_reply": "2022-02-06T07:40:45.968474Z",
     "shell.execute_reply.started": "2022-02-06T07:10:57.333621Z"
    },
    "papermill": {
     "duration": 0.088764,
     "end_time": "2022-02-06T07:40:45.969146",
     "exception": false,
     "start_time": "2022-02-06T07:40:45.880382",
     "status": "completed"
    },
    "tags": []
   },
   "outputs": [
    {
     "data": {
      "text/html": [
       "<div>\n",
       "<style scoped>\n",
       "    .dataframe tbody tr th:only-of-type {\n",
       "        vertical-align: middle;\n",
       "    }\n",
       "\n",
       "    .dataframe tbody tr th {\n",
       "        vertical-align: top;\n",
       "    }\n",
       "\n",
       "    .dataframe thead th {\n",
       "        text-align: right;\n",
       "    }\n",
       "</style>\n",
       "<table border=\"1\" class=\"dataframe\">\n",
       "  <thead>\n",
       "    <tr style=\"text-align: right;\">\n",
       "      <th></th>\n",
       "      <th>batsman</th>\n",
       "      <th>total_runs</th>\n",
       "    </tr>\n",
       "  </thead>\n",
       "  <tbody>\n",
       "    <tr>\n",
       "      <th>505</th>\n",
       "      <td>V Kohli</td>\n",
       "      <td>6081</td>\n",
       "    </tr>\n",
       "    <tr>\n",
       "      <th>438</th>\n",
       "      <td>SK Raina</td>\n",
       "      <td>5604</td>\n",
       "    </tr>\n",
       "    <tr>\n",
       "      <th>116</th>\n",
       "      <td>DA Warner</td>\n",
       "      <td>5522</td>\n",
       "    </tr>\n",
       "    <tr>\n",
       "      <th>407</th>\n",
       "      <td>S Dhawan</td>\n",
       "      <td>5452</td>\n",
       "    </tr>\n",
       "    <tr>\n",
       "      <th>379</th>\n",
       "      <td>RG Sharma</td>\n",
       "      <td>5394</td>\n",
       "    </tr>\n",
       "    <tr>\n",
       "      <th>...</th>\n",
       "      <td>...</td>\n",
       "      <td>...</td>\n",
       "    </tr>\n",
       "    <tr>\n",
       "      <th>387</th>\n",
       "      <td>RR Bhatkal</td>\n",
       "      <td>0</td>\n",
       "    </tr>\n",
       "    <tr>\n",
       "      <th>91</th>\n",
       "      <td>C Nanda</td>\n",
       "      <td>0</td>\n",
       "    </tr>\n",
       "    <tr>\n",
       "      <th>413</th>\n",
       "      <td>S Lamichhane</td>\n",
       "      <td>0</td>\n",
       "    </tr>\n",
       "    <tr>\n",
       "      <th>506</th>\n",
       "      <td>V Pratap Singh</td>\n",
       "      <td>0</td>\n",
       "    </tr>\n",
       "    <tr>\n",
       "      <th>228</th>\n",
       "      <td>KK Ahmed</td>\n",
       "      <td>0</td>\n",
       "    </tr>\n",
       "  </tbody>\n",
       "</table>\n",
       "<p>537 rows × 2 columns</p>\n",
       "</div>"
      ],
      "text/plain": [
       "            batsman  total_runs\n",
       "505         V Kohli        6081\n",
       "438        SK Raina        5604\n",
       "116       DA Warner        5522\n",
       "407        S Dhawan        5452\n",
       "379       RG Sharma        5394\n",
       "..              ...         ...\n",
       "387      RR Bhatkal           0\n",
       "91          C Nanda           0\n",
       "413    S Lamichhane           0\n",
       "506  V Pratap Singh           0\n",
       "228        KK Ahmed           0\n",
       "\n",
       "[537 rows x 2 columns]"
      ]
     },
     "metadata": {},
     "output_type": "display_data"
    },
    {
     "data": {
      "text/html": [
       "<div>\n",
       "<style scoped>\n",
       "    .dataframe tbody tr th:only-of-type {\n",
       "        vertical-align: middle;\n",
       "    }\n",
       "\n",
       "    .dataframe tbody tr th {\n",
       "        vertical-align: top;\n",
       "    }\n",
       "\n",
       "    .dataframe thead th {\n",
       "        text-align: right;\n",
       "    }\n",
       "</style>\n",
       "<table border=\"1\" class=\"dataframe\">\n",
       "  <thead>\n",
       "    <tr style=\"text-align: right;\">\n",
       "      <th></th>\n",
       "      <th>batsman</th>\n",
       "      <th>total_runs</th>\n",
       "    </tr>\n",
       "  </thead>\n",
       "  <tbody>\n",
       "    <tr>\n",
       "      <th>505</th>\n",
       "      <td>V Kohli</td>\n",
       "      <td>6081</td>\n",
       "    </tr>\n",
       "    <tr>\n",
       "      <th>438</th>\n",
       "      <td>SK Raina</td>\n",
       "      <td>5604</td>\n",
       "    </tr>\n",
       "    <tr>\n",
       "      <th>116</th>\n",
       "      <td>DA Warner</td>\n",
       "      <td>5522</td>\n",
       "    </tr>\n",
       "    <tr>\n",
       "      <th>407</th>\n",
       "      <td>S Dhawan</td>\n",
       "      <td>5452</td>\n",
       "    </tr>\n",
       "    <tr>\n",
       "      <th>379</th>\n",
       "      <td>RG Sharma</td>\n",
       "      <td>5394</td>\n",
       "    </tr>\n",
       "    <tr>\n",
       "      <th>96</th>\n",
       "      <td>CH Gayle</td>\n",
       "      <td>5103</td>\n",
       "    </tr>\n",
       "    <tr>\n",
       "      <th>24</th>\n",
       "      <td>AB de Villiers</td>\n",
       "      <td>5016</td>\n",
       "    </tr>\n",
       "    <tr>\n",
       "      <th>398</th>\n",
       "      <td>RV Uthappa</td>\n",
       "      <td>4878</td>\n",
       "    </tr>\n",
       "    <tr>\n",
       "      <th>301</th>\n",
       "      <td>MS Dhoni</td>\n",
       "      <td>4855</td>\n",
       "    </tr>\n",
       "    <tr>\n",
       "      <th>154</th>\n",
       "      <td>G Gambhir</td>\n",
       "      <td>4479</td>\n",
       "    </tr>\n",
       "  </tbody>\n",
       "</table>\n",
       "</div>"
      ],
      "text/plain": [
       "            batsman  total_runs\n",
       "505         V Kohli        6081\n",
       "438        SK Raina        5604\n",
       "116       DA Warner        5522\n",
       "407        S Dhawan        5452\n",
       "379       RG Sharma        5394\n",
       "96         CH Gayle        5103\n",
       "24   AB de Villiers        5016\n",
       "398      RV Uthappa        4878\n",
       "301        MS Dhoni        4855\n",
       "154       G Gambhir        4479"
      ]
     },
     "metadata": {},
     "output_type": "display_data"
    }
   ],
   "source": [
    "batsmanruns=ball.groupby(['batsman'])['total_runs'].sum().reset_index()\n",
    "batsmanruns = batsmanruns.sort_values([\"total_runs\"], ascending=False)\n",
    "topbm=batsmanruns[:10]\n",
    "display(batsmanruns)\n",
    "display(topbm)"
   ]
  },
  {
   "cell_type": "code",
   "execution_count": 21,
   "id": "2d74684b",
   "metadata": {
    "execution": {
     "iopub.execute_input": "2022-02-06T07:40:46.072995Z",
     "iopub.status.busy": "2022-02-06T07:40:46.072151Z",
     "iopub.status.idle": "2022-02-06T07:40:46.501204Z",
     "shell.execute_reply": "2022-02-06T07:40:46.500565Z",
     "shell.execute_reply.started": "2022-02-06T07:11:10.114069Z"
    },
    "papermill": {
     "duration": 0.483034,
     "end_time": "2022-02-06T07:40:46.501345",
     "exception": false,
     "start_time": "2022-02-06T07:40:46.018311",
     "status": "completed"
    },
    "tags": []
   },
   "outputs": [
    {
     "data": {
      "text/plain": [
       "<AxesSubplot:xlabel='batsman'>"
      ]
     },
     "execution_count": 21,
     "metadata": {},
     "output_type": "execute_result"
    },
    {
     "data": {
      "image/png": "[encoded data removed]",
      "text/plain": [
       "<Figure size 432x288 with 1 Axes>"
      ]
     },
     "metadata": {},
     "output_type": "display_data"
    }
   ],
   "source": [
    "topbm.set_index('batsman', inplace=True)\n",
    "topbm.plot(kind='bar')"
   ]
  },
  {
   "cell_type": "markdown",
   "id": "a633af13",
   "metadata": {
    "papermill": {
     "duration": 0.048865,
     "end_time": "2022-02-06T07:40:46.599468",
     "exception": false,
     "start_time": "2022-02-06T07:40:46.550603",
     "status": "completed"
    },
    "tags": []
   },
   "source": [
    "**Thus we can see that the most number of runs were scored by Virat Kohli**"
   ]
  },
  {
   "cell_type": "markdown",
   "id": "a72af000",
   "metadata": {
    "papermill": {
     "duration": 0.048668,
     "end_time": "2022-02-06T07:40:46.697640",
     "exception": false,
     "start_time": "2022-02-06T07:40:46.648972",
     "status": "completed"
    },
    "tags": []
   },
   "source": [
    "# **Role of Toss**"
   ]
  },
  {
   "cell_type": "code",
   "execution_count": 22,
   "id": "9cdb65d9",
   "metadata": {
    "execution": {
     "iopub.execute_input": "2022-02-06T07:40:46.800001Z",
     "iopub.status.busy": "2022-02-06T07:40:46.798986Z",
     "iopub.status.idle": "2022-02-06T07:40:46.807276Z",
     "shell.execute_reply": "2022-02-06T07:40:46.807885Z",
     "shell.execute_reply.started": "2022-02-06T07:16:15.567351Z"
    },
    "papermill": {
     "duration": 0.061316,
     "end_time": "2022-02-06T07:40:46.808062",
     "exception": false,
     "start_time": "2022-02-06T07:40:46.746746",
     "status": "completed"
    },
    "tags": []
   },
   "outputs": [
    {
     "data": {
      "text/plain": [
       "True     418\n",
       "False    398\n",
       "dtype: int64"
      ]
     },
     "execution_count": 22,
     "metadata": {},
     "output_type": "execute_result"
    }
   ],
   "source": [
    "toss = matches.toss_winner == matches.winner\n",
    "toss.value_counts()"
   ]
  },
  {
   "cell_type": "code",
   "execution_count": 23,
   "id": "2296b091",
   "metadata": {
    "execution": {
     "iopub.execute_input": "2022-02-06T07:40:46.911123Z",
     "iopub.status.busy": "2022-02-06T07:40:46.910121Z",
     "iopub.status.idle": "2022-02-06T07:40:47.039164Z",
     "shell.execute_reply": "2022-02-06T07:40:47.040135Z",
     "shell.execute_reply.started": "2022-02-06T07:18:48.940619Z"
    },
    "papermill": {
     "duration": 0.183083,
     "end_time": "2022-02-06T07:40:47.040424",
     "exception": false,
     "start_time": "2022-02-06T07:40:46.857341",
     "status": "completed"
    },
    "tags": []
   },
   "outputs": [
    {
     "data": {
      "image/png": "[encoded data removed]",
      "text/plain": [
       "<Figure size 504x504 with 1 Axes>"
      ]
     },
     "metadata": {},
     "output_type": "display_data"
    }
   ],
   "source": [
    "toss_data = { \"Matches won by toss winner\" : 418,\n",
    "              \"Matches won by toss looser\" : 398}\n",
    "toss_data = pd.Series(toss_data)\n",
    "import warnings\n",
    "warnings.filterwarnings(\"ignore\")\n",
    "plt.figure(figsize=(7,7))\n",
    "plt.pie(x=toss_data,autopct=\"%.2f%%\",labels=toss_data.index);"
   ]
  },
  {
   "cell_type": "markdown",
   "id": "39ab1aac",
   "metadata": {
    "papermill": {
     "duration": 0.050258,
     "end_time": "2022-02-06T07:40:47.172156",
     "exception": false,
     "start_time": "2022-02-06T07:40:47.121898",
     "status": "completed"
    },
    "tags": []
   },
   "source": [
    "**Therefore toss does play a slight role in determining if a team would win the match or not.**"
   ]
  },
  {
   "cell_type": "markdown",
   "id": "dacd0c52",
   "metadata": {
    "papermill": {
     "duration": 0.053365,
     "end_time": "2022-02-06T07:40:47.276482",
     "exception": false,
     "start_time": "2022-02-06T07:40:47.223117",
     "status": "completed"
    },
    "tags": []
   },
   "source": [
    "# **Matches Won by Teams**"
   ]
  },
  {
   "cell_type": "code",
   "execution_count": 24,
   "id": "2cc4d17c",
   "metadata": {
    "execution": {
     "iopub.execute_input": "2022-02-06T07:40:47.408735Z",
     "iopub.status.busy": "2022-02-06T07:40:47.407690Z",
     "iopub.status.idle": "2022-02-06T07:40:47.715819Z",
     "shell.execute_reply": "2022-02-06T07:40:47.716327Z",
     "shell.execute_reply.started": "2022-02-06T07:32:41.047999Z"
    },
    "papermill": {
     "duration": 0.389501,
     "end_time": "2022-02-06T07:40:47.716511",
     "exception": false,
     "start_time": "2022-02-06T07:40:47.327010",
     "status": "completed"
    },
    "tags": []
   },
   "outputs": [
    {
     "data": {
      "text/plain": [
       "Text(0.5, 1.0, 'Matches won by the Teams')"
      ]
     },
     "execution_count": 24,
     "metadata": {},
     "output_type": "execute_result"
    },
    {
     "data": {
      "image/png": "[encoded data removed]",
      "text/plain": [
       "<Figure size 576x1008 with 1 Axes>"
      ]
     },
     "metadata": {},
     "output_type": "display_data"
    }
   ],
   "source": [
    "plt.figure(figsize=(8,14))\n",
    "sns.countplot(y='winner',data=matches, palette='inferno')\n",
    "plt.xlabel('No. of matches won',fontsize=12)\n",
    "plt.ylabel('Team',fontsize=14)\n",
    "plt.title('Matches won by the Teams',fontsize=14)\n"
   ]
  },
  {
   "cell_type": "markdown",
   "id": "c2ef5f0b",
   "metadata": {
    "papermill": {
     "duration": 0.052635,
     "end_time": "2022-02-06T07:40:47.822351",
     "exception": false,
     "start_time": "2022-02-06T07:40:47.769716",
     "status": "completed"
    },
    "tags": []
   },
   "source": [
    "# **Matched Played in a Season**"
   ]
  },
  {
   "cell_type": "code",
   "execution_count": 25,
   "id": "85947c59",
   "metadata": {
    "execution": {
     "iopub.execute_input": "2022-02-06T07:40:47.937976Z",
     "iopub.status.busy": "2022-02-06T07:40:47.936524Z",
     "iopub.status.idle": "2022-02-06T07:40:48.232693Z",
     "shell.execute_reply": "2022-02-06T07:40:48.232112Z",
     "shell.execute_reply.started": "2022-02-06T07:37:20.644324Z"
    },
    "papermill": {
     "duration": 0.357509,
     "end_time": "2022-02-06T07:40:48.232854",
     "exception": false,
     "start_time": "2022-02-06T07:40:47.875345",
     "status": "completed"
    },
    "tags": []
   },
   "outputs": [
    {
     "data": {
      "text/plain": [
       "Text(0.5, 1.0, 'Matches per season')"
      ]
     },
     "execution_count": 25,
     "metadata": {},
     "output_type": "execute_result"
    },
    {
     "data": {
      "image/png": "[encoded data removed]",
      "text/plain": [
       "<Figure size 720x1008 with 1 Axes>"
      ]
     },
     "metadata": {},
     "output_type": "display_data"
    }
   ],
   "source": [
    "plt.figure(figsize=(10,14))\n",
    "sns.countplot(y='season',data=matches, palette='inferno')\n",
    "plt.xlabel('No. of matches played',fontsize=12)\n",
    "plt.ylabel('Season',fontsize=14)\n",
    "plt.title('Matches per season',fontsize=14)"
   ]
  },
  {
   "cell_type": "markdown",
   "id": "5e780812",
   "metadata": {
    "papermill": {
     "duration": 0.054599,
     "end_time": "2022-02-06T07:40:48.343779",
     "exception": false,
     "start_time": "2022-02-06T07:40:48.289180",
     "status": "completed"
    },
    "tags": []
   },
   "source": [
    "**Thus most matches were played in 2013.**"
   ]
  }
 ],
 "metadata": {
  "kernelspec": {
   "display_name": "Python 3",
   "language": "python",
   "name": "python3"
  },
  "language_info": {
   "codemirror_mode": {
    "name": "ipython",
    "version": 3
   },
   "file_extension": ".py",
   "mimetype": "text/x-python",
   "name": "python",
   "nbconvert_exporter": "python",
   "pygments_lexer": "ipython3",
   "version": "3.7.12"
  },
  "papermill": {
   "default_parameters": {},
   "duration": 39.974616,
   "end_time": "2022-02-06T07:40:49.108948",
   "environment_variables": {},
   "exception": null,
   "input_path": "__notebook__.ipynb",
   "output_path": "__notebook__.ipynb",
   "parameters": {},
   "start_time": "2022-02-06T07:40:09.134332",
   "version": "2.3.3"
  }
 },
 "nbformat": 4,
 "nbformat_minor": 5
}
